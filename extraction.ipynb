{
 "cells": [
  {
   "cell_type": "code",
   "execution_count": 1,
   "metadata": {},
   "outputs": [],
   "source": [
    "import pandas as pd"
   ]
  },
  {
   "cell_type": "code",
   "execution_count": 12,
   "metadata": {},
   "outputs": [],
   "source": [
    "data = pd.read_csv('data.csv')"
   ]
  },
  {
   "cell_type": "code",
   "execution_count": 16,
   "metadata": {},
   "outputs": [],
   "source": [
    "data['description'] = data['raw_texts'].apply(lambda x: x[:200]+\"...\")"
   ]
  },
  {
   "cell_type": "code",
   "execution_count": 17,
   "metadata": {},
   "outputs": [
    {
     "data": {
      "text/plain": [
       "0        جمعية الاقتصاديين الدور المأمول حسنا فعلت جمع...\n",
       "1        سهم المجموعة العربية للتأمين يرتفع قياسيا ويس...\n",
       "2        افتتاح مركز النقد لجيسيك آند ديفريانت في البح...\n",
       "3        أسعار النفط تتراجع في نوفمبر بعد ارتفاعاتها ا...\n",
       "4        خلال الفترة بين من الشهر الجاري الاجتماع السن...\n",
       "                              ...                        \n",
       "5685     حسين جاسم بطل كمال الأجسام يقول نحن مؤهلون لح...\n",
       "5686     في ختام بطولة الخليج للاسكواش لاعبو منتخب الك...\n",
       "5687     موقف رياضي ستفجر نتيجة مباراة مصر مع ليبيا في...\n",
       "5688     احتضنته بيت الكرة البحرينية اجتماع تنسيقي إيج...\n",
       "5689     من ينقذ الألعاب الجماعية الثلاث ثلاث ألعاب ري...\n",
       "Name: description, Length: 5690, dtype: object"
      ]
     },
     "execution_count": 17,
     "metadata": {},
     "output_type": "execute_result"
    }
   ],
   "source": [
    "data['description']"
   ]
  },
  {
   "cell_type": "code",
   "execution_count": 18,
   "metadata": {},
   "outputs": [],
   "source": [
    "## save csv file \n",
    "data.to_csv('data.csv', index=False)"
   ]
  },
  {
   "cell_type": "code",
   "execution_count": null,
   "metadata": {},
   "outputs": [],
   "source": []
  }
 ],
 "metadata": {
  "kernelspec": {
   "display_name": "renv",
   "language": "python",
   "name": "python3"
  },
  "language_info": {
   "codemirror_mode": {
    "name": "ipython",
    "version": 3
   },
   "file_extension": ".py",
   "mimetype": "text/x-python",
   "name": "python",
   "nbconvert_exporter": "python",
   "pygments_lexer": "ipython3",
   "version": "3.10.8"
  },
  "orig_nbformat": 4
 },
 "nbformat": 4,
 "nbformat_minor": 2
}
