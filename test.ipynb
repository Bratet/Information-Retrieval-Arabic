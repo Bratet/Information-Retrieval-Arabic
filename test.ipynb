{
 "cells": [
  {
   "cell_type": "code",
   "execution_count": 1,
   "metadata": {},
   "outputs": [],
   "source": [
    "#we need to import the following libraries.\n",
    "import pandas as pd\n",
    "#make your loops show a smart progress meter \n",
    "from tqdm import tqdm\n",
    "from glob import glob"
   ]
  },
  {
   "cell_type": "code",
   "execution_count": 2,
   "metadata": {},
   "outputs": [],
   "source": [
    "from methods import *"
   ]
  },
  {
   "cell_type": "code",
   "execution_count": 3,
   "metadata": {},
   "outputs": [
    {
     "name": "stderr",
     "output_type": "stream",
     "text": [
      "100%|██████████| 5690/5690 [00:02<00:00, 2135.87it/s]\n"
     ]
    },
    {
     "data": {
      "text/html": [
       "<div>\n",
       "<style scoped>\n",
       "    .dataframe tbody tr th:only-of-type {\n",
       "        vertical-align: middle;\n",
       "    }\n",
       "\n",
       "    .dataframe tbody tr th {\n",
       "        vertical-align: top;\n",
       "    }\n",
       "\n",
       "    .dataframe thead th {\n",
       "        text-align: right;\n",
       "    }\n",
       "</style>\n",
       "<table border=\"1\" class=\"dataframe\">\n",
       "  <thead>\n",
       "    <tr style=\"text-align: right;\">\n",
       "      <th></th>\n",
       "      <th>files</th>\n",
       "      <th>raw_texts</th>\n",
       "    </tr>\n",
       "  </thead>\n",
       "  <tbody>\n",
       "    <tr>\n",
       "      <th>0</th>\n",
       "      <td>data\\Economy\\arc_Articlesww0221.html</td>\n",
       "      <td>جمعية الاقتصاديين الدور المأمول حسنا فعلت جمع...</td>\n",
       "    </tr>\n",
       "    <tr>\n",
       "      <th>1</th>\n",
       "      <td>data\\Economy\\arc_Articlesww0313.html</td>\n",
       "      <td>سهم المجموعة العربية للتأمين يرتفع قياسيا ويس...</td>\n",
       "    </tr>\n",
       "    <tr>\n",
       "      <th>2</th>\n",
       "      <td>data\\Economy\\arc_Articlesww03de.html</td>\n",
       "      <td>افتتاح مركز النقد لجيسيك آند ديفريانت في البح...</td>\n",
       "    </tr>\n",
       "    <tr>\n",
       "      <th>3</th>\n",
       "      <td>data\\Economy\\arc_Articlesww04a5.html</td>\n",
       "      <td>أسعار النفط تتراجع في نوفمبر بعد ارتفاعاتها ا...</td>\n",
       "    </tr>\n",
       "    <tr>\n",
       "      <th>4</th>\n",
       "      <td>data\\Economy\\arc_Articlesww0521.html</td>\n",
       "      <td>خلال الفترة بين من الشهر الجاري الاجتماع السن...</td>\n",
       "    </tr>\n",
       "    <tr>\n",
       "      <th>...</th>\n",
       "      <td>...</td>\n",
       "      <td>...</td>\n",
       "    </tr>\n",
       "    <tr>\n",
       "      <th>5685</th>\n",
       "      <td>data\\Sports\\arc_Articleszzf992.html</td>\n",
       "      <td>حسين جاسم بطل كمال الأجسام يقول نحن مؤهلون لح...</td>\n",
       "    </tr>\n",
       "    <tr>\n",
       "      <th>5686</th>\n",
       "      <td>data\\Sports\\arc_Articleszzf9e2.html</td>\n",
       "      <td>في ختام بطولة الخليج للاسكواش لاعبو منتخب الك...</td>\n",
       "    </tr>\n",
       "    <tr>\n",
       "      <th>5687</th>\n",
       "      <td>data\\Sports\\arc_Articleszzfb30.html</td>\n",
       "      <td>موقف رياضي ستفجر نتيجة مباراة مصر مع ليبيا في...</td>\n",
       "    </tr>\n",
       "    <tr>\n",
       "      <th>5688</th>\n",
       "      <td>data\\Sports\\arc_Articleszzfc32.html</td>\n",
       "      <td>احتضنته بيت الكرة البحرينية اجتماع تنسيقي إيج...</td>\n",
       "    </tr>\n",
       "    <tr>\n",
       "      <th>5689</th>\n",
       "      <td>data\\Sports\\arc_Articleszzfc7d.html</td>\n",
       "      <td>من ينقذ الألعاب الجماعية الثلاث ثلاث ألعاب ري...</td>\n",
       "    </tr>\n",
       "  </tbody>\n",
       "</table>\n",
       "<p>5690 rows × 2 columns</p>\n",
       "</div>"
      ],
      "text/plain": [
       "                                     files  \\\n",
       "0     data\\Economy\\arc_Articlesww0221.html   \n",
       "1     data\\Economy\\arc_Articlesww0313.html   \n",
       "2     data\\Economy\\arc_Articlesww03de.html   \n",
       "3     data\\Economy\\arc_Articlesww04a5.html   \n",
       "4     data\\Economy\\arc_Articlesww0521.html   \n",
       "...                                    ...   \n",
       "5685   data\\Sports\\arc_Articleszzf992.html   \n",
       "5686   data\\Sports\\arc_Articleszzf9e2.html   \n",
       "5687   data\\Sports\\arc_Articleszzfb30.html   \n",
       "5688   data\\Sports\\arc_Articleszzfc32.html   \n",
       "5689   data\\Sports\\arc_Articleszzfc7d.html   \n",
       "\n",
       "                                              raw_texts  \n",
       "0      جمعية الاقتصاديين الدور المأمول حسنا فعلت جمع...  \n",
       "1      سهم المجموعة العربية للتأمين يرتفع قياسيا ويس...  \n",
       "2      افتتاح مركز النقد لجيسيك آند ديفريانت في البح...  \n",
       "3      أسعار النفط تتراجع في نوفمبر بعد ارتفاعاتها ا...  \n",
       "4      خلال الفترة بين من الشهر الجاري الاجتماع السن...  \n",
       "...                                                 ...  \n",
       "5685   حسين جاسم بطل كمال الأجسام يقول نحن مؤهلون لح...  \n",
       "5686   في ختام بطولة الخليج للاسكواش لاعبو منتخب الك...  \n",
       "5687   موقف رياضي ستفجر نتيجة مباراة مصر مع ليبيا في...  \n",
       "5688   احتضنته بيت الكرة البحرينية اجتماع تنسيقي إيج...  \n",
       "5689   من ينقذ الألعاب الجماعية الثلاث ثلاث ألعاب ري...  \n",
       "\n",
       "[5690 rows x 2 columns]"
      ]
     },
     "execution_count": 3,
     "metadata": {},
     "output_type": "execute_result"
    }
   ],
   "source": [
    "html_files = glob('data/*/*.html')\n",
    "\n",
    "data = pd.DataFrame()\n",
    "\n",
    "for file in tqdm(html_files):\n",
    "    text = extract_text(file)\n",
    "    row = pd.DataFrame({'files': [file], 'raw_texts': [text]})\n",
    "    data = pd.concat([data, row], ignore_index=True)\n",
    "    \n",
    "data.reset_index(drop=True, inplace=True)\n",
    "data"
   ]
  },
  {
   "cell_type": "code",
   "execution_count": 4,
   "metadata": {},
   "outputs": [],
   "source": [
    "data['docno'] = [ 'd' + str(i) for i in range(len(data))]"
   ]
  },
  {
   "cell_type": "code",
   "execution_count": 5,
   "metadata": {},
   "outputs": [],
   "source": [
    "data['text'] = data['raw_texts'].apply(clean)"
   ]
  },
  {
   "cell_type": "code",
   "execution_count": 6,
   "metadata": {},
   "outputs": [],
   "source": [
    "data['text'] = data['text'].apply(remove_stopWords)"
   ]
  },
  {
   "cell_type": "code",
   "execution_count": 7,
   "metadata": {},
   "outputs": [],
   "source": [
    "data['text'] = data['text'].apply(normalize)"
   ]
  },
  {
   "cell_type": "code",
   "execution_count": 8,
   "metadata": {},
   "outputs": [],
   "source": [
    "data['text'] = data['text'].apply(stem)"
   ]
  },
  {
   "cell_type": "code",
   "execution_count": 9,
   "metadata": {},
   "outputs": [
    {
     "data": {
      "text/html": [
       "<div>\n",
       "<style scoped>\n",
       "    .dataframe tbody tr th:only-of-type {\n",
       "        vertical-align: middle;\n",
       "    }\n",
       "\n",
       "    .dataframe tbody tr th {\n",
       "        vertical-align: top;\n",
       "    }\n",
       "\n",
       "    .dataframe thead th {\n",
       "        text-align: right;\n",
       "    }\n",
       "</style>\n",
       "<table border=\"1\" class=\"dataframe\">\n",
       "  <thead>\n",
       "    <tr style=\"text-align: right;\">\n",
       "      <th></th>\n",
       "      <th>docno</th>\n",
       "      <th>text</th>\n",
       "    </tr>\n",
       "  </thead>\n",
       "  <tbody>\n",
       "    <tr>\n",
       "      <th>0</th>\n",
       "      <td>d0</td>\n",
       "      <td>جمع اقتصاد دور مامول حسنا فعل جمع اقتصاد بحرين...</td>\n",
       "    </tr>\n",
       "    <tr>\n",
       "      <th>1</th>\n",
       "      <td>d1</td>\n",
       "      <td>سهم مجموعه عربيه تام يرتفع قياسي يسجل مستو جدي...</td>\n",
       "    </tr>\n",
       "    <tr>\n",
       "      <th>2</th>\n",
       "      <td>d2</td>\n",
       "      <td>افتتاح مركز نقد لجيس اند ديفريان بحر رعا مءسس ...</td>\n",
       "    </tr>\n",
       "    <tr>\n",
       "      <th>3</th>\n",
       "      <td>d3</td>\n",
       "      <td>اسعار نفط تتراجع نوفمبر ارتفاعا قياسيه اكتوبر ...</td>\n",
       "    </tr>\n",
       "    <tr>\n",
       "      <th>4</th>\n",
       "      <td>d4</td>\n",
       "      <td>فتره شهر جار اجتماع سنو رابع عشر جنه عربيه رقا...</td>\n",
       "    </tr>\n",
       "    <tr>\n",
       "      <th>...</th>\n",
       "      <td>...</td>\n",
       "      <td>...</td>\n",
       "    </tr>\n",
       "    <tr>\n",
       "      <th>5685</th>\n",
       "      <td>d5685</td>\n",
       "      <td>حسين جاسم بطل كمال اجسام يقول مءهل لحصد ميدال ...</td>\n",
       "    </tr>\n",
       "    <tr>\n",
       "      <th>5686</th>\n",
       "      <td>d5686</td>\n",
       "      <td>ختام طول خليج اسكواش لاعب منتخب كويت يحصد نصيب...</td>\n",
       "    </tr>\n",
       "    <tr>\n",
       "      <th>5687</th>\n",
       "      <td>d5687</td>\n",
       "      <td>موقف رياض تفجر نتيج مبار مصر ليبي تصفيا كاس عا...</td>\n",
       "    </tr>\n",
       "    <tr>\n",
       "      <th>5688</th>\n",
       "      <td>d5688</td>\n",
       "      <td>احتضن بيت كره بحرينيه اجتماع تنسيق ايجاب لتحضي...</td>\n",
       "    </tr>\n",
       "    <tr>\n",
       "      <th>5689</th>\n",
       "      <td>d5689</td>\n",
       "      <td>ينقذ العاب جماعيه ثلاث ثلاث عاب رياض جماع تسير...</td>\n",
       "    </tr>\n",
       "  </tbody>\n",
       "</table>\n",
       "<p>5690 rows × 2 columns</p>\n",
       "</div>"
      ],
      "text/plain": [
       "      docno                                               text\n",
       "0        d0  جمع اقتصاد دور مامول حسنا فعل جمع اقتصاد بحرين...\n",
       "1        d1  سهم مجموعه عربيه تام يرتفع قياسي يسجل مستو جدي...\n",
       "2        d2  افتتاح مركز نقد لجيس اند ديفريان بحر رعا مءسس ...\n",
       "3        d3  اسعار نفط تتراجع نوفمبر ارتفاعا قياسيه اكتوبر ...\n",
       "4        d4  فتره شهر جار اجتماع سنو رابع عشر جنه عربيه رقا...\n",
       "...     ...                                                ...\n",
       "5685  d5685  حسين جاسم بطل كمال اجسام يقول مءهل لحصد ميدال ...\n",
       "5686  d5686  ختام طول خليج اسكواش لاعب منتخب كويت يحصد نصيب...\n",
       "5687  d5687  موقف رياض تفجر نتيج مبار مصر ليبي تصفيا كاس عا...\n",
       "5688  d5688  احتضن بيت كره بحرينيه اجتماع تنسيق ايجاب لتحضي...\n",
       "5689  d5689  ينقذ العاب جماعيه ثلاث ثلاث عاب رياض جماع تسير...\n",
       "\n",
       "[5690 rows x 2 columns]"
      ]
     },
     "execution_count": 9,
     "metadata": {},
     "output_type": "execute_result"
    }
   ],
   "source": [
    "data[['docno', 'text']]"
   ]
  },
  {
   "cell_type": "code",
   "execution_count": 10,
   "metadata": {},
   "outputs": [],
   "source": [
    "# save the data to a csv file\n",
    "# data.to_csv('data.csv', index=False)"
   ]
  },
  {
   "cell_type": "code",
   "execution_count": 3,
   "metadata": {},
   "outputs": [],
   "source": [
    "from utils import *"
   ]
  },
  {
   "cell_type": "code",
   "execution_count": 4,
   "metadata": {},
   "outputs": [
    {
     "name": "stdout",
     "output_type": "stream",
     "text": [
      "[(1755, 0.08701373259339809), (3423, 0.07376130470180631), (3573, 0.06613082490506772), (3873, 0.0561993550074853), (3362, 0.052506594347226564), (1440, 0.04950156840904642), (2446, 0.048551744867011755), (2051, 0.04660806470407475), (1828, 0.04544939336512513), (431, 0.044126347270904955)]\n"
     ]
    }
   ],
   "source": [
    "indexer = ArabicIndexer().load('indexer/indexer.pkl')\n",
    "\n",
    "query = \"ما هو العمر القانوني للتصويت في الولايات المتحدة؟\"\n",
    "\n",
    "from methods import preprocess\n",
    "\n",
    "query = preprocess(query)\n",
    "\n",
    "results = indexer.search(query)\n",
    "\n",
    "print(results)"
   ]
  },
  {
   "cell_type": "code",
   "execution_count": null,
   "metadata": {},
   "outputs": [],
   "source": []
  }
 ],
 "metadata": {
  "kernelspec": {
   "display_name": "Python 3 (ipykernel)",
   "language": "python",
   "name": "python3"
  },
  "language_info": {
   "codemirror_mode": {
    "name": "ipython",
    "version": 3
   },
   "file_extension": ".py",
   "mimetype": "text/x-python",
   "name": "python",
   "nbconvert_exporter": "python",
   "pygments_lexer": "ipython3",
   "version": "3.10.8"
  }
 },
 "nbformat": 4,
 "nbformat_minor": 2
}
