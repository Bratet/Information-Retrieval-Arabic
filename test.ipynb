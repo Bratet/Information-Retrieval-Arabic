{
 "cells": [
  {
   "cell_type": "code",
   "execution_count": 1,
   "metadata": {},
   "outputs": [],
   "source": [
    "#we need to import the following libraries.\n",
    "import pandas as pd\n",
    "#make your loops show a smart progress meter \n",
    "from tqdm import tqdm\n",
    "from glob import glob"
   ]
  },
  {
   "cell_type": "code",
   "execution_count": 2,
   "metadata": {},
   "outputs": [],
   "source": [
    "from methods import *"
   ]
  },
  {
   "cell_type": "code",
   "execution_count": 3,
   "metadata": {},
   "outputs": [
    {
     "name": "stderr",
     "output_type": "stream",
     "text": [
      "100%|██████████| 5690/5690 [00:18<00:00, 306.87it/s] \n"
     ]
    },
    {
     "data": {
      "text/html": [
       "<div>\n",
       "<style scoped>\n",
       "    .dataframe tbody tr th:only-of-type {\n",
       "        vertical-align: middle;\n",
       "    }\n",
       "\n",
       "    .dataframe tbody tr th {\n",
       "        vertical-align: top;\n",
       "    }\n",
       "\n",
       "    .dataframe thead th {\n",
       "        text-align: right;\n",
       "    }\n",
       "</style>\n",
       "<table border=\"1\" class=\"dataframe\">\n",
       "  <thead>\n",
       "    <tr style=\"text-align: right;\">\n",
       "      <th></th>\n",
       "      <th>files</th>\n",
       "      <th>raw_texts</th>\n",
       "    </tr>\n",
       "  </thead>\n",
       "  <tbody>\n",
       "    <tr>\n",
       "      <th>0</th>\n",
       "      <td>data\\Economy\\arc_Articlesww0221.html</td>\n",
       "      <td>جمعية الاقتصاديين الدور المأمول حسنا فعلت جمع...</td>\n",
       "    </tr>\n",
       "    <tr>\n",
       "      <th>1</th>\n",
       "      <td>data\\Economy\\arc_Articlesww0313.html</td>\n",
       "      <td>سهم المجموعة العربية للتأمين يرتفع قياسيا ويس...</td>\n",
       "    </tr>\n",
       "    <tr>\n",
       "      <th>2</th>\n",
       "      <td>data\\Economy\\arc_Articlesww03de.html</td>\n",
       "      <td>افتتاح مركز النقد لجيسيك آند ديفريانت في البح...</td>\n",
       "    </tr>\n",
       "    <tr>\n",
       "      <th>3</th>\n",
       "      <td>data\\Economy\\arc_Articlesww04a5.html</td>\n",
       "      <td>أسعار النفط تتراجع في نوفمبر بعد ارتفاعاتها ا...</td>\n",
       "    </tr>\n",
       "    <tr>\n",
       "      <th>4</th>\n",
       "      <td>data\\Economy\\arc_Articlesww0521.html</td>\n",
       "      <td>خلال الفترة بين من الشهر الجاري الاجتماع السن...</td>\n",
       "    </tr>\n",
       "    <tr>\n",
       "      <th>...</th>\n",
       "      <td>...</td>\n",
       "      <td>...</td>\n",
       "    </tr>\n",
       "    <tr>\n",
       "      <th>5685</th>\n",
       "      <td>data\\Sports\\arc_Articleszzf992.html</td>\n",
       "      <td>حسين جاسم بطل كمال الأجسام يقول نحن مؤهلون لح...</td>\n",
       "    </tr>\n",
       "    <tr>\n",
       "      <th>5686</th>\n",
       "      <td>data\\Sports\\arc_Articleszzf9e2.html</td>\n",
       "      <td>في ختام بطولة الخليج للاسكواش لاعبو منتخب الك...</td>\n",
       "    </tr>\n",
       "    <tr>\n",
       "      <th>5687</th>\n",
       "      <td>data\\Sports\\arc_Articleszzfb30.html</td>\n",
       "      <td>موقف رياضي ستفجر نتيجة مباراة مصر مع ليبيا في...</td>\n",
       "    </tr>\n",
       "    <tr>\n",
       "      <th>5688</th>\n",
       "      <td>data\\Sports\\arc_Articleszzfc32.html</td>\n",
       "      <td>احتضنته بيت الكرة البحرينية اجتماع تنسيقي إيج...</td>\n",
       "    </tr>\n",
       "    <tr>\n",
       "      <th>5689</th>\n",
       "      <td>data\\Sports\\arc_Articleszzfc7d.html</td>\n",
       "      <td>من ينقذ الألعاب الجماعية الثلاث ثلاث ألعاب ري...</td>\n",
       "    </tr>\n",
       "  </tbody>\n",
       "</table>\n",
       "<p>5690 rows × 2 columns</p>\n",
       "</div>"
      ],
      "text/plain": [
       "                                     files   \n",
       "0     data\\Economy\\arc_Articlesww0221.html  \\\n",
       "1     data\\Economy\\arc_Articlesww0313.html   \n",
       "2     data\\Economy\\arc_Articlesww03de.html   \n",
       "3     data\\Economy\\arc_Articlesww04a5.html   \n",
       "4     data\\Economy\\arc_Articlesww0521.html   \n",
       "...                                    ...   \n",
       "5685   data\\Sports\\arc_Articleszzf992.html   \n",
       "5686   data\\Sports\\arc_Articleszzf9e2.html   \n",
       "5687   data\\Sports\\arc_Articleszzfb30.html   \n",
       "5688   data\\Sports\\arc_Articleszzfc32.html   \n",
       "5689   data\\Sports\\arc_Articleszzfc7d.html   \n",
       "\n",
       "                                              raw_texts  \n",
       "0      جمعية الاقتصاديين الدور المأمول حسنا فعلت جمع...  \n",
       "1      سهم المجموعة العربية للتأمين يرتفع قياسيا ويس...  \n",
       "2      افتتاح مركز النقد لجيسيك آند ديفريانت في البح...  \n",
       "3      أسعار النفط تتراجع في نوفمبر بعد ارتفاعاتها ا...  \n",
       "4      خلال الفترة بين من الشهر الجاري الاجتماع السن...  \n",
       "...                                                 ...  \n",
       "5685   حسين جاسم بطل كمال الأجسام يقول نحن مؤهلون لح...  \n",
       "5686   في ختام بطولة الخليج للاسكواش لاعبو منتخب الك...  \n",
       "5687   موقف رياضي ستفجر نتيجة مباراة مصر مع ليبيا في...  \n",
       "5688   احتضنته بيت الكرة البحرينية اجتماع تنسيقي إيج...  \n",
       "5689   من ينقذ الألعاب الجماعية الثلاث ثلاث ألعاب ري...  \n",
       "\n",
       "[5690 rows x 2 columns]"
      ]
     },
     "execution_count": 3,
     "metadata": {},
     "output_type": "execute_result"
    }
   ],
   "source": [
    "html_files = glob('data/*/*.html')\n",
    "\n",
    "data = pd.DataFrame()\n",
    "\n",
    "for file in tqdm(html_files):\n",
    "    text = extract_text(file)\n",
    "    row = pd.DataFrame({'files': [file], 'raw_texts': [text]})\n",
    "    data = pd.concat([data, row], ignore_index=True)\n",
    "    \n",
    "data.reset_index(drop=True, inplace=True)\n",
    "data"
   ]
  },
  {
   "cell_type": "code",
   "execution_count": 4,
   "metadata": {},
   "outputs": [],
   "source": [
    "data['docno'] = [ 'd' + str(i) for i in range(len(data))]"
   ]
  },
  {
   "cell_type": "code",
   "execution_count": 5,
   "metadata": {},
   "outputs": [],
   "source": [
    "data['content'] = data['raw_texts'].apply(clean)"
   ]
  },
  {
   "cell_type": "code",
   "execution_count": 6,
   "metadata": {},
   "outputs": [],
   "source": [
    "data['content'] = data['content'].apply(remove_stopWords)"
   ]
  },
  {
   "cell_type": "code",
   "execution_count": 7,
   "metadata": {},
   "outputs": [],
   "source": [
    "data['content'] = data['content'].apply(normalize)"
   ]
  },
  {
   "cell_type": "code",
   "execution_count": 8,
   "metadata": {},
   "outputs": [],
   "source": [
    "data['content'] = data['content'].apply(stem)"
   ]
  },
  {
   "cell_type": "code",
   "execution_count": 9,
   "metadata": {},
   "outputs": [
    {
     "data": {
      "text/html": [
       "<div>\n",
       "<style scoped>\n",
       "    .dataframe tbody tr th:only-of-type {\n",
       "        vertical-align: middle;\n",
       "    }\n",
       "\n",
       "    .dataframe tbody tr th {\n",
       "        vertical-align: top;\n",
       "    }\n",
       "\n",
       "    .dataframe thead th {\n",
       "        text-align: right;\n",
       "    }\n",
       "</style>\n",
       "<table border=\"1\" class=\"dataframe\">\n",
       "  <thead>\n",
       "    <tr style=\"text-align: right;\">\n",
       "      <th></th>\n",
       "      <th>docno</th>\n",
       "      <th>content</th>\n",
       "    </tr>\n",
       "  </thead>\n",
       "  <tbody>\n",
       "    <tr>\n",
       "      <th>0</th>\n",
       "      <td>d0</td>\n",
       "      <td>جمع اقتصاد دور مامول حسنا فعل جمع اقتصاد بحرين...</td>\n",
       "    </tr>\n",
       "    <tr>\n",
       "      <th>1</th>\n",
       "      <td>d1</td>\n",
       "      <td>سهم مجموعه عربيه تام يرتفع قياسي يسجل مستو جدي...</td>\n",
       "    </tr>\n",
       "    <tr>\n",
       "      <th>2</th>\n",
       "      <td>d2</td>\n",
       "      <td>افتتاح مركز نقد لجيس اند ديفريان بحر رعا مءسس ...</td>\n",
       "    </tr>\n",
       "    <tr>\n",
       "      <th>3</th>\n",
       "      <td>d3</td>\n",
       "      <td>اسعار نفط تتراجع نوفمبر ارتفاعا قياسيه اكتوبر ...</td>\n",
       "    </tr>\n",
       "    <tr>\n",
       "      <th>4</th>\n",
       "      <td>d4</td>\n",
       "      <td>فتره شهر جار اجتماع سنو رابع عشر جنه عربيه رقا...</td>\n",
       "    </tr>\n",
       "    <tr>\n",
       "      <th>...</th>\n",
       "      <td>...</td>\n",
       "      <td>...</td>\n",
       "    </tr>\n",
       "    <tr>\n",
       "      <th>5685</th>\n",
       "      <td>d5685</td>\n",
       "      <td>حسين جاسم بطل كمال اجسام يقول مءهل لحصد ميدال ...</td>\n",
       "    </tr>\n",
       "    <tr>\n",
       "      <th>5686</th>\n",
       "      <td>d5686</td>\n",
       "      <td>ختام طول خليج اسكواش لاعب منتخب كويت يحصد نصيب...</td>\n",
       "    </tr>\n",
       "    <tr>\n",
       "      <th>5687</th>\n",
       "      <td>d5687</td>\n",
       "      <td>موقف رياض تفجر نتيج مبار مصر ليبي تصفيا كاس عا...</td>\n",
       "    </tr>\n",
       "    <tr>\n",
       "      <th>5688</th>\n",
       "      <td>d5688</td>\n",
       "      <td>احتضن بيت كره بحرينيه اجتماع تنسيق ايجاب لتحضي...</td>\n",
       "    </tr>\n",
       "    <tr>\n",
       "      <th>5689</th>\n",
       "      <td>d5689</td>\n",
       "      <td>ينقذ العاب جماعيه ثلاث ثلاث عاب رياض جماع تسير...</td>\n",
       "    </tr>\n",
       "  </tbody>\n",
       "</table>\n",
       "<p>5690 rows × 2 columns</p>\n",
       "</div>"
      ],
      "text/plain": [
       "      docno                                            content\n",
       "0        d0  جمع اقتصاد دور مامول حسنا فعل جمع اقتصاد بحرين...\n",
       "1        d1  سهم مجموعه عربيه تام يرتفع قياسي يسجل مستو جدي...\n",
       "2        d2  افتتاح مركز نقد لجيس اند ديفريان بحر رعا مءسس ...\n",
       "3        d3  اسعار نفط تتراجع نوفمبر ارتفاعا قياسيه اكتوبر ...\n",
       "4        d4  فتره شهر جار اجتماع سنو رابع عشر جنه عربيه رقا...\n",
       "...     ...                                                ...\n",
       "5685  d5685  حسين جاسم بطل كمال اجسام يقول مءهل لحصد ميدال ...\n",
       "5686  d5686  ختام طول خليج اسكواش لاعب منتخب كويت يحصد نصيب...\n",
       "5687  d5687  موقف رياض تفجر نتيج مبار مصر ليبي تصفيا كاس عا...\n",
       "5688  d5688  احتضن بيت كره بحرينيه اجتماع تنسيق ايجاب لتحضي...\n",
       "5689  d5689  ينقذ العاب جماعيه ثلاث ثلاث عاب رياض جماع تسير...\n",
       "\n",
       "[5690 rows x 2 columns]"
      ]
     },
     "execution_count": 9,
     "metadata": {},
     "output_type": "execute_result"
    }
   ],
   "source": [
    "data[['docno', 'content']]"
   ]
  },
  {
   "cell_type": "code",
   "execution_count": 10,
   "metadata": {},
   "outputs": [
    {
     "data": {
      "text/html": [
       "<div>\n",
       "<style scoped>\n",
       "    .dataframe tbody tr th:only-of-type {\n",
       "        vertical-align: middle;\n",
       "    }\n",
       "\n",
       "    .dataframe tbody tr th {\n",
       "        vertical-align: top;\n",
       "    }\n",
       "\n",
       "    .dataframe thead th {\n",
       "        text-align: right;\n",
       "    }\n",
       "</style>\n",
       "<table border=\"1\" class=\"dataframe\">\n",
       "  <thead>\n",
       "    <tr style=\"text-align: right;\">\n",
       "      <th></th>\n",
       "      <th>files</th>\n",
       "      <th>raw_texts</th>\n",
       "      <th>docno</th>\n",
       "      <th>content</th>\n",
       "    </tr>\n",
       "  </thead>\n",
       "  <tbody>\n",
       "    <tr>\n",
       "      <th>0</th>\n",
       "      <td>data\\Economy\\arc_Articlesww0221.html</td>\n",
       "      <td>جمعية الاقتصاديين الدور المأمول حسنا فعلت جمع...</td>\n",
       "      <td>d0</td>\n",
       "      <td>جمع اقتصاد دور مامول حسنا فعل جمع اقتصاد بحرين...</td>\n",
       "    </tr>\n",
       "    <tr>\n",
       "      <th>1</th>\n",
       "      <td>data\\Economy\\arc_Articlesww0313.html</td>\n",
       "      <td>سهم المجموعة العربية للتأمين يرتفع قياسيا ويس...</td>\n",
       "      <td>d1</td>\n",
       "      <td>سهم مجموعه عربيه تام يرتفع قياسي يسجل مستو جدي...</td>\n",
       "    </tr>\n",
       "    <tr>\n",
       "      <th>2</th>\n",
       "      <td>data\\Economy\\arc_Articlesww03de.html</td>\n",
       "      <td>افتتاح مركز النقد لجيسيك آند ديفريانت في البح...</td>\n",
       "      <td>d2</td>\n",
       "      <td>افتتاح مركز نقد لجيس اند ديفريان بحر رعا مءسس ...</td>\n",
       "    </tr>\n",
       "    <tr>\n",
       "      <th>3</th>\n",
       "      <td>data\\Economy\\arc_Articlesww04a5.html</td>\n",
       "      <td>أسعار النفط تتراجع في نوفمبر بعد ارتفاعاتها ا...</td>\n",
       "      <td>d3</td>\n",
       "      <td>اسعار نفط تتراجع نوفمبر ارتفاعا قياسيه اكتوبر ...</td>\n",
       "    </tr>\n",
       "    <tr>\n",
       "      <th>4</th>\n",
       "      <td>data\\Economy\\arc_Articlesww0521.html</td>\n",
       "      <td>خلال الفترة بين من الشهر الجاري الاجتماع السن...</td>\n",
       "      <td>d4</td>\n",
       "      <td>فتره شهر جار اجتماع سنو رابع عشر جنه عربيه رقا...</td>\n",
       "    </tr>\n",
       "    <tr>\n",
       "      <th>...</th>\n",
       "      <td>...</td>\n",
       "      <td>...</td>\n",
       "      <td>...</td>\n",
       "      <td>...</td>\n",
       "    </tr>\n",
       "    <tr>\n",
       "      <th>5685</th>\n",
       "      <td>data\\Sports\\arc_Articleszzf992.html</td>\n",
       "      <td>حسين جاسم بطل كمال الأجسام يقول نحن مؤهلون لح...</td>\n",
       "      <td>d5685</td>\n",
       "      <td>حسين جاسم بطل كمال اجسام يقول مءهل لحصد ميدال ...</td>\n",
       "    </tr>\n",
       "    <tr>\n",
       "      <th>5686</th>\n",
       "      <td>data\\Sports\\arc_Articleszzf9e2.html</td>\n",
       "      <td>في ختام بطولة الخليج للاسكواش لاعبو منتخب الك...</td>\n",
       "      <td>d5686</td>\n",
       "      <td>ختام طول خليج اسكواش لاعب منتخب كويت يحصد نصيب...</td>\n",
       "    </tr>\n",
       "    <tr>\n",
       "      <th>5687</th>\n",
       "      <td>data\\Sports\\arc_Articleszzfb30.html</td>\n",
       "      <td>موقف رياضي ستفجر نتيجة مباراة مصر مع ليبيا في...</td>\n",
       "      <td>d5687</td>\n",
       "      <td>موقف رياض تفجر نتيج مبار مصر ليبي تصفيا كاس عا...</td>\n",
       "    </tr>\n",
       "    <tr>\n",
       "      <th>5688</th>\n",
       "      <td>data\\Sports\\arc_Articleszzfc32.html</td>\n",
       "      <td>احتضنته بيت الكرة البحرينية اجتماع تنسيقي إيج...</td>\n",
       "      <td>d5688</td>\n",
       "      <td>احتضن بيت كره بحرينيه اجتماع تنسيق ايجاب لتحضي...</td>\n",
       "    </tr>\n",
       "    <tr>\n",
       "      <th>5689</th>\n",
       "      <td>data\\Sports\\arc_Articleszzfc7d.html</td>\n",
       "      <td>من ينقذ الألعاب الجماعية الثلاث ثلاث ألعاب ري...</td>\n",
       "      <td>d5689</td>\n",
       "      <td>ينقذ العاب جماعيه ثلاث ثلاث عاب رياض جماع تسير...</td>\n",
       "    </tr>\n",
       "  </tbody>\n",
       "</table>\n",
       "<p>5690 rows × 4 columns</p>\n",
       "</div>"
      ],
      "text/plain": [
       "                                     files   \n",
       "0     data\\Economy\\arc_Articlesww0221.html  \\\n",
       "1     data\\Economy\\arc_Articlesww0313.html   \n",
       "2     data\\Economy\\arc_Articlesww03de.html   \n",
       "3     data\\Economy\\arc_Articlesww04a5.html   \n",
       "4     data\\Economy\\arc_Articlesww0521.html   \n",
       "...                                    ...   \n",
       "5685   data\\Sports\\arc_Articleszzf992.html   \n",
       "5686   data\\Sports\\arc_Articleszzf9e2.html   \n",
       "5687   data\\Sports\\arc_Articleszzfb30.html   \n",
       "5688   data\\Sports\\arc_Articleszzfc32.html   \n",
       "5689   data\\Sports\\arc_Articleszzfc7d.html   \n",
       "\n",
       "                                              raw_texts  docno   \n",
       "0      جمعية الاقتصاديين الدور المأمول حسنا فعلت جمع...     d0  \\\n",
       "1      سهم المجموعة العربية للتأمين يرتفع قياسيا ويس...     d1   \n",
       "2      افتتاح مركز النقد لجيسيك آند ديفريانت في البح...     d2   \n",
       "3      أسعار النفط تتراجع في نوفمبر بعد ارتفاعاتها ا...     d3   \n",
       "4      خلال الفترة بين من الشهر الجاري الاجتماع السن...     d4   \n",
       "...                                                 ...    ...   \n",
       "5685   حسين جاسم بطل كمال الأجسام يقول نحن مؤهلون لح...  d5685   \n",
       "5686   في ختام بطولة الخليج للاسكواش لاعبو منتخب الك...  d5686   \n",
       "5687   موقف رياضي ستفجر نتيجة مباراة مصر مع ليبيا في...  d5687   \n",
       "5688   احتضنته بيت الكرة البحرينية اجتماع تنسيقي إيج...  d5688   \n",
       "5689   من ينقذ الألعاب الجماعية الثلاث ثلاث ألعاب ري...  d5689   \n",
       "\n",
       "                                                content  \n",
       "0     جمع اقتصاد دور مامول حسنا فعل جمع اقتصاد بحرين...  \n",
       "1     سهم مجموعه عربيه تام يرتفع قياسي يسجل مستو جدي...  \n",
       "2     افتتاح مركز نقد لجيس اند ديفريان بحر رعا مءسس ...  \n",
       "3     اسعار نفط تتراجع نوفمبر ارتفاعا قياسيه اكتوبر ...  \n",
       "4     فتره شهر جار اجتماع سنو رابع عشر جنه عربيه رقا...  \n",
       "...                                                 ...  \n",
       "5685  حسين جاسم بطل كمال اجسام يقول مءهل لحصد ميدال ...  \n",
       "5686  ختام طول خليج اسكواش لاعب منتخب كويت يحصد نصيب...  \n",
       "5687  موقف رياض تفجر نتيج مبار مصر ليبي تصفيا كاس عا...  \n",
       "5688  احتضن بيت كره بحرينيه اجتماع تنسيق ايجاب لتحضي...  \n",
       "5689  ينقذ العاب جماعيه ثلاث ثلاث عاب رياض جماع تسير...  \n",
       "\n",
       "[5690 rows x 4 columns]"
      ]
     },
     "execution_count": 10,
     "metadata": {},
     "output_type": "execute_result"
    }
   ],
   "source": [
    "data"
   ]
  },
  {
   "cell_type": "code",
   "execution_count": 11,
   "metadata": {},
   "outputs": [],
   "source": [
    "import re\n",
    "from collections import Counter\n",
    "from pyarabic import araby\n",
    "\n",
    "def generate_title_from_keywords(document, max_keywords=5):\n",
    "    # Tokenize the document\n",
    "    words = araby.tokenize(document)\n",
    "\n",
    "    # Count word occurrences\n",
    "    word_counts = Counter(words)\n",
    "\n",
    "    # Select the top keywords based on their frequency\n",
    "    top_keywords = [word for word, count in word_counts.most_common(max_keywords)]\n",
    "\n",
    "    # Create a title by joining the top keywords\n",
    "    title = ', '.join(top_keywords)\n",
    "    return title\n",
    "\n",
    "data['titles'] = data['content'].apply(generate_title_from_keywords)"
   ]
  },
  {
   "cell_type": "code",
   "execution_count": 12,
   "metadata": {},
   "outputs": [
    {
     "data": {
      "text/plain": [
       "0           اقتصاد, خليج, اقتصاديه, ان, جمع\n",
       "1              سهم, مستو, سعر, سنتا, مستثمر\n",
       "2                  مركز, نقد, اند, عمل, بحر\n",
       "3               نفط, تقرير, ماءه, ان, اسعار\n",
       "4       عربيه, رقابه, مصرفيه, اجتماع, مصارف\n",
       "                       ...                 \n",
       "5685               ان, حسين, جاسم, قال, بحر\n",
       "5686            مركز, كويت, سنه, منتخب, دول\n",
       "5687           مصر, مدرب, منتخب, لاعب, افضل\n",
       "5688         صحف, اتحاد, اجتماع, بحرين, لكر\n",
       "5689             ان, طاءره, فشل, كره, العاب\n",
       "Name: titles, Length: 5690, dtype: object"
      ]
     },
     "execution_count": 12,
     "metadata": {},
     "output_type": "execute_result"
    }
   ],
   "source": [
    "data['titles']"
   ]
  },
  {
   "cell_type": "code",
   "execution_count": 13,
   "metadata": {},
   "outputs": [],
   "source": [
    "# save the data to a csv file\n",
    "data.to_csv('data.csv', index=False)"
   ]
  },
  {
   "cell_type": "code",
   "execution_count": 14,
   "metadata": {},
   "outputs": [],
   "source": [
    "from utils import ArabicIndexer"
   ]
  },
  {
   "cell_type": "code",
   "execution_count": 15,
   "metadata": {},
   "outputs": [],
   "source": [
    "# build the indexer\n",
    "indexer = ArabicIndexer()\n",
    "indexer.add_documents(data[['docno', 'content']].values)\n",
    "indexer.save('indexer/indexer.pkl')\n",
    "# save the best title for each doc to a csv file"
   ]
  },
  {
   "cell_type": "code",
   "execution_count": 16,
   "metadata": {},
   "outputs": [
    {
     "name": "stdout",
     "output_type": "stream",
     "text": [
      "[('d1755', 0.08701373259339809), ('d3423', 0.07376130470180631), ('d3573', 0.06613082490506772), ('d3873', 0.0561993550074853), ('d3362', 0.052506594347226564), ('d1440', 0.04950156840904642), ('d2446', 0.048551744867011755), ('d2051', 0.04660806470407475), ('d1828', 0.04544939336512513), ('d431', 0.044126347270904955)]\n"
     ]
    }
   ],
   "source": [
    "indexer = ArabicIndexer.load('indexer/indexer.pkl')\n",
    "\n",
    "query = \"ما هو العمر القانوني للتصويت في الولايات المتحدة؟\"\n",
    "\n",
    "from methods import preprocess\n",
    "\n",
    "query = preprocess(query)\n",
    "\n",
    "results = indexer.search(query)\n",
    "\n",
    "print(results)"
   ]
  },
  {
   "cell_type": "code",
   "execution_count": 17,
   "metadata": {},
   "outputs": [
    {
     "ename": "",
     "evalue": "",
     "output_type": "error",
     "traceback": [
      "\u001b[1;31mThe Kernel crashed while executing code in the the current cell or a previous cell. Please review the code in the cell(s) to identify a possible cause of the failure. Click <a href='https://aka.ms/vscodeJupyterKernelCrash'>here</a> for more info. View Jupyter <a href='command:jupyter.viewOutput'>log</a> for further details."
     ]
    }
   ],
   "source": [
    "data = pd.read_csv(\"data.csv\")\n",
    "# look for the file diroctory with doc_id in results and it title\n",
    "files = [data[data[\"docno\"] == doc_id][\"files\"].values[0] for doc_id, _ in results]\n",
    "titles = [data[data[\"docno\"] == doc_id][\"titles\"].values[0] for doc_id, _ in results]"
   ]
  }
 ],
 "metadata": {
  "kernelspec": {
   "display_name": "Python 3 (ipykernel)",
   "language": "python",
   "name": "python3"
  },
  "language_info": {
   "codemirror_mode": {
    "name": "ipython",
    "version": 3
   },
   "file_extension": ".py",
   "mimetype": "text/x-python",
   "name": "python",
   "nbconvert_exporter": "python",
   "pygments_lexer": "ipython3",
   "version": "3.9.0"
  }
 },
 "nbformat": 4,
 "nbformat_minor": 2
}
